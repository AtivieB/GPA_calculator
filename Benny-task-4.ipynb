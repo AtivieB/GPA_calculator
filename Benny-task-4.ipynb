{
 "cells": [
  {
   "cell_type": "markdown",
   "id": "9cb95fc5-cdd2-489b-8f3c-a666364acf56",
   "metadata": {},
   "source": [
    "The purpose of this assignment is to apply your knowledge and skill in coding if...else and while statements in Python. \n",
    "\n",
    "Instructions\n",
    "Complete the following steps:\n",
    "Write a Python app that will accept student names and GPAs and test if the student qualifies for either the Dean's List or the Honor Roll. Your app will:\n",
    "ask for and accept a student's last name.\n",
    "quit processing student records if the last name entered is 'ZZZ'.\n",
    "ask for and accept a student's first name.\n",
    "ask for and accept the student's GPA as a float.\n",
    "test if the student's GPA is 3.5 or greater and, if so, print a message saying that the student has made the Dean's List.\n",
    "test if the student's GPA is 3.25 or greater and, if so, print a message saying that the studnet has made the Honor Roll.\n",
    "Test your app using at least five students.\n",
    "Your header comments need to contain\n",
    "Your name\n",
    "The file name for your app\n",
    "A brief description of what your app will do\n"
   ]
  },
  {
   "cell_type": "code",
   "execution_count": 2,
   "id": "18488cf1-c954-4480-a67f-3733f2d338bb",
   "metadata": {},
   "outputs": [
    {
     "name": "stdin",
     "output_type": "stream",
     "text": [
      "Enter the student's last name (or type 'ZZZ' to quit):  Benny\n",
      "Enter the student's first name:  hi\n",
      "Enter the student's GPA:  3.1\n"
     ]
    },
    {
     "name": "stdout",
     "output_type": "stream",
     "text": [
      "hi Benny does not qualify for the Dean's List or Honor Roll.\n"
     ]
    },
    {
     "name": "stdin",
     "output_type": "stream",
     "text": [
      "Enter the student's last name (or type 'ZZZ' to quit):  victor\n",
      "Enter the student's first name:  sam\n",
      "Enter the student's GPA:  3.3\n"
     ]
    },
    {
     "name": "stdout",
     "output_type": "stream",
     "text": [
      "sam victor has made the Honor Roll.\n"
     ]
    },
    {
     "name": "stdin",
     "output_type": "stream",
     "text": [
      "Enter the student's last name (or type 'ZZZ' to quit):  radio\n",
      "Enter the student's first name:  tv\n",
      "Enter the student's GPA:  3.6\n"
     ]
    },
    {
     "name": "stdout",
     "output_type": "stream",
     "text": [
      "tv radio has made the Dean's List.\n"
     ]
    },
    {
     "name": "stdin",
     "output_type": "stream",
     "text": [
      "Enter the student's last name (or type 'ZZZ' to quit):  zzz\n"
     ]
    },
    {
     "name": "stdout",
     "output_type": "stream",
     "text": [
      "Exiting the program.\n"
     ]
    }
   ],
   "source": [
    "# Author: Benny\n",
    "# File Name: student_gpa_checker.py\n",
    "# Description: This app accepts student names and GPAs, and checks if they qualify for the Dean's List or Honor Roll.\n",
    "# The app continues processing student records until the user enters 'ZZZ' as the last name.\n",
    "\n",
    "def check_student_gpa():\n",
    "    while True:\n",
    "        # Ask for and accept student's last name\n",
    "        last_name = input(\"Enter the student's last name (or type 'ZZZ' to quit): \")\n",
    "        \n",
    "        # Quit processing if 'ZZZ' is entered\n",
    "        if last_name.upper() == 'ZZZ':\n",
    "            print(\"Exiting the program.\")\n",
    "            break\n",
    "        \n",
    "        # Ask for and accept student's first name\n",
    "        first_name = input(\"Enter the student's first name: \")\n",
    "        \n",
    "        # Ask for and accept the student's GPA\n",
    "        try:\n",
    "            gpa = float(input(\"Enter the student's GPA: \"))\n",
    "        except ValueError:\n",
    "            print(\"Invalid input for GPA. Please enter a numeric value.\")\n",
    "            continue\n",
    "        \n",
    "        # Test if the student's GPA qualifies for the Dean's List\n",
    "        if gpa >= 3.5:\n",
    "            print(f\"{first_name} {last_name} has made the Dean's List.\")\n",
    "        \n",
    "        # Test if the student's GPA qualifies for the Honor Roll\n",
    "        elif gpa >= 3.25:\n",
    "            print(f\"{first_name} {last_name} has made the Honor Roll.\")\n",
    "        \n",
    "        # If GPA doesn't qualify for either list\n",
    "        else:\n",
    "            print(f\"{first_name} {last_name} does not qualify for the Dean's List or Honor Roll.\")\n",
    "            \n",
    "# Run the program and test with at least five students\n",
    "check_student_gpa()\n"
   ]
  },
  {
   "cell_type": "code",
   "execution_count": null,
   "id": "3b48740a-782d-47fb-9158-762f7059f8e9",
   "metadata": {},
   "outputs": [],
   "source": []
  }
 ],
 "metadata": {
  "kernelspec": {
   "display_name": "Python 3 (ipykernel)",
   "language": "python",
   "name": "python3"
  },
  "language_info": {
   "codemirror_mode": {
    "name": "ipython",
    "version": 3
   },
   "file_extension": ".py",
   "mimetype": "text/x-python",
   "name": "python",
   "nbconvert_exporter": "python",
   "pygments_lexer": "ipython3",
   "version": "3.11.7"
  }
 },
 "nbformat": 4,
 "nbformat_minor": 5
}
